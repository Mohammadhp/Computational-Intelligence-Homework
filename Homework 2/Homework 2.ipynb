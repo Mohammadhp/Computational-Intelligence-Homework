{
 "cells": [
  {
   "cell_type": "code",
   "execution_count": 1,
   "metadata": {},
   "outputs": [],
   "source": [
    "import numpy as np\n",
    "import matplotlib.pyplot as plt"
   ]
  },
  {
   "cell_type": "code",
   "execution_count": 2,
   "metadata": {},
   "outputs": [],
   "source": [
    "%matplotlib inline"
   ]
  },
  {
   "cell_type": "code",
   "execution_count": 3,
   "metadata": {},
   "outputs": [
    {
     "data": {
      "image/png": "[encoded data removed]",
      "text/plain": [
       "<matplotlib.figure.Figure at 0x7fdd37a23550>"
      ]
     },
     "metadata": {},
     "output_type": "display_data"
    }
   ],
   "source": [
    "sigma = 10\n",
    "limit = 50\n",
    "X = np.arange(-limit, limit, 0.01, dtype = np.float)\n",
    "y_square_loss = 0.5 * (X ** 2)\n",
    "y_huber = ( (np.abs(X) <= sigma) * (0.5 * (X ** 2) ) + (np.abs(X) > sigma) * ( sigma * (np.abs(X) - 0.5 * sigma) ) )\n",
    "plt.plot(X, y_square_loss, 'g')\n",
    "plt.plot(X, y_huber, 'b')\n",
    "plt.xlim(xmin = -limit, xmax = limit)\n",
    "plt.legend(['Square loss function', 'Huber loss function'])\n",
    "plt.show()"
   ]
  },
  {
   "cell_type": "markdown",
   "metadata": {},
   "source": [
    "The Huber function takes a static approach to outlier detection. if difference between the estimation and the output is greater that $ \\sigma $, then the data is considered as a outlier and the cost function becomes linear. Although this cost function is not used oftenly because computing the derivatives is more complex than that of the square difference function, and the function takes a static approach to outlier detection that requires the proper setting of the hyperparameter $ \\delta $. A better approach would be to use outlier detection methods to eliminate outlier data points then use the simple square cost function"
   ]
  },
  {
   "cell_type": "markdown",
   "metadata": {},
   "source": [
    "** Part B **\n",
    "\n",
    "$ Y = W^{T}X + b$\n",
    "\n",
    "$ H_\\delta (y - t) = \\left\\{\n",
    "                        \\begin{array}{ll}\n",
    "                       \\frac{1}{2} {(y - t)}^2) \\;\\;\\;\\;\\;\\;\\;\\;\\;\\;\\; |{y - t}| \\leq \\delta \\\\\n",
    "                       \\delta(|y - t| - \\frac{1}{2}\\delta) \\;\\;\\;\\;\\; |y - t| > \\delta\n",
    "                       \\end{array}\n",
    "                       \\right.\n",
    "                       $\n",
    "                       \n",
    "$ \\frac{\\sigma H_\\delta}{\\sigma W} = \\frac{\\sigma H_\\delta}{\\sigma Y} \\times \\frac{\\sigma Y}{\\sigma W} $                   \n",
    "\n",
    "$ \\frac{\\sigma H_{\\delta}}{\\sigma Y} = \\left\\{\n",
    "                                              \\begin{array}{ll}\n",
    "                                              (y - t) \\;\\;\\;\\; |{y - t}| \\leq \\delta \\\\\n",
    "                                              \\delta \\;\\;\\;\\;\\;\\;\\;\\;\\;\\;\\:  y - t > \\delta \\\\\n",
    "                                              -\\delta \\;\\;\\;\\;\\;\\;\\;\\;  y - t < -\\delta\n",
    "                                              \\end{array}\n",
    "                                              \\right.$    \n",
    "                                              \n",
    "$ \\frac{\\sigma Y}{\\sigma W} = X $ <br>   \n",
    "$ \\frac{\\sigma Y}{\\sigma b} = 1 $\n",
    "<br><br><br><br> ** So we conclude that: <br>**\n",
    "\n",
    "$ \\frac{\\sigma H_{\\delta}}{\\sigma W} = \\left\\{\n",
    "                                              \\begin{array}{ll}\n",
    "                                              (y - t)X \\;\\;\\;\\; |{y - t}| \\leq \\delta \\\\\n",
    "                                              \\delta X \\;\\;\\;\\;\\;\\;\\;\\;\\;\\;\\:  y - t > \\delta \\\\\n",
    "                                              -\\delta X \\;\\;\\;\\;\\;\\;\\;\\;  y - t < -\\delta\n",
    "                                              \\end{array}\n",
    "                                              \\right.$\n",
    "                                              \n",
    "<br>\n",
    "$ \\frac{\\sigma H_{\\delta}}{\\sigma b} = \\left\\{\n",
    "                                              \\begin{array}{ll}\n",
    "                                              (y - t) \\;\\;\\;\\; |{y - t}| \\leq \\delta \\\\\n",
    "                                              \\delta \\;\\;\\;\\;\\;\\;\\;\\;\\;\\;\\:  y - t > \\delta \\\\\n",
    "                                              -\\delta \\;\\;\\;\\;\\;\\;\\;\\;  y - t < -\\delta\n",
    "                                              \\end{array}\n",
    "                                              \\right.$    \n",
    "                                              \n"
   ]
  },
  {
   "cell_type": "markdown",
   "metadata": {},
   "source": [
    "## Question 2\n",
    "  \n",
    "  were gonna separate the two data points below using the perceptron learning algorithm.\n",
    "  \n",
    "  |$X_1$|$X_2$|t|\n",
    "  |-----|--|-|\n",
    "  | 1 | -2 | 1 |\n",
    "  | 0 | -1 | -1|"
   ]
  },
  {
   "cell_type": "code",
   "execution_count": 4,
   "metadata": {},
   "outputs": [
    {
     "data": {
      "image/png": "[encoded data removed]",
      "text/plain": [
       "<matplotlib.figure.Figure at 0x7fdd37a4c400>"
      ]
     },
     "metadata": {},
     "output_type": "display_data"
    }
   ],
   "source": [
    "learning_rate = 0.1\n",
    "marker_map = {-1 : 'x', 1 : 'o'}\n",
    "data_points = np.array([[1, -2, 1], [0, -1, -1]], dtype = np.float)\n",
    "plt.xlabel('X1')\n",
    "plt.ylabel('X2')\n",
    "plt.xlim(-3, 3)\n",
    "plt.ylim(-3, 3)\n",
    "plt.xticks(np.arange(-3, 4, 1))\n",
    "plt.yticks(np.arange(-3, 4, 1))\n",
    "for data_point in data_points:\n",
    "    plt.scatter(data_point[0], data_point[1], marker=marker_map[data_point[2]], s=150)\n",
    "plt.grid()\n",
    "plt.show()"
   ]
  },
  {
   "cell_type": "markdown",
   "metadata": {},
   "source": [
    "** Im gonna perform learning in 100 steps and a learning rate of 0.01 to make things more exciting :) **"
   ]
  },
  {
   "cell_type": "code",
   "execution_count": 5,
   "metadata": {},
   "outputs": [
    {
     "data": {
      "image/png": "[encoded data removed]",
      "text/plain": [
       "<matplotlib.figure.Figure at 0x7fdd359927f0>"
      ]
     },
     "metadata": {},
     "output_type": "display_data"
    },
    {
     "name": "stdout",
     "output_type": "stream",
     "text": [
      "[1.00000000e-01 6.38378239e-16]\n"
     ]
    }
   ],
   "source": [
    "W = [0, -2]\n",
    "steps = 100\n",
    "new_weights = np.zeros(shape=(steps, 2), dtype = np.float)\n",
    "t = np.arange(steps)\n",
    "for i in range(steps):\n",
    "    point = int(i % 2)\n",
    "    X = data_points[point, 0 : 2]\n",
    "    Y = data_points[point, 2]\n",
    "    pred = np.sum(np.multiply(X , W))\n",
    "    if Y == 1 and pred < 0:\n",
    "        W = W + X * learning_rate\n",
    "    elif Y == -1 and pred >= 0:\n",
    "        W = W - X * learning_rate\n",
    "    new_weights[i] = W\n",
    "plt.scatter(new_weights[:,0], new_weights[:,1], s=steps, c=t, cmap=\"ocean\")\n",
    "plt.grid()\n",
    "plt.show()\n",
    "print(W)"
   ]
  },
  {
   "cell_type": "markdown",
   "metadata": {},
   "source": [
    "** The points above represent how our weights are moving as the learning procedure goes on. (light blue to green) **\n"
   ]
  },
  {
   "cell_type": "code",
   "execution_count": 6,
   "metadata": {},
   "outputs": [
    {
     "data": {
      "image/png": "[encoded data removed]",
      "text/plain": [
       "<matplotlib.figure.Figure at 0x7fdd35997b38>"
      ]
     },
     "metadata": {},
     "output_type": "display_data"
    }
   ],
   "source": [
    "plt.xlabel('X1')\n",
    "plt.ylabel('X2')\n",
    "plt.xlim(-3, 3)\n",
    "plt.ylim(-3, 3)\n",
    "plt.xticks(np.arange(-3, 4, 1))\n",
    "plt.yticks(np.arange(-3, 4, 1))\n",
    "for data_point in data_points:\n",
    "    plt.scatter(data_point[0], data_point[1], marker=marker_map[data_point[2]], s=150)\n",
    "plt.grid()\n",
    "input_range = np.arange(-5, 5, 0.01, dtype = np.float)\n",
    "output = (-W[0] * input_range) / W[1]\n",
    "plt.plot(input_range, output, 'r')\n",
    "plt.show()"
   ]
  },
  {
   "cell_type": "markdown",
   "metadata": {},
   "source": [
    "** This is the line we get after performing learning with a learning rate of 0.1 **"
   ]
  },
  {
   "cell_type": "markdown",
   "metadata": {},
   "source": [
    "## Question 3\n",
    "  \n",
    "  consider the following loss function: $$ L(y, t) = 1 - cos(y - t) $$ <br> and a linear regression model where the relation between input and output is:<br><br> $$ y = W^TX + b $$ so the cost function would be: <br><br> $$ \\epsilon = \\frac{1}{N} \\sum_{i=1}^{N} L(y^{(i)}{t^{(i)}})$$ <br> Were Gonna compute the derivatives of the cost function with respect to our parameters. <br><br>\n",
    "  $$\\epsilon = \\frac{1}{N} \\sum_{i=1}^{N} 1 - cos(y - t) \\\\ $$\n",
    "  $$ \\frac{\\sigma\\epsilon}{\\sigma y} = \\frac{1}{N} \\sum_{i=1}^N 1 + sin(y - t) $$\n",
    "  $$ \\frac{\\sigma \\epsilon}{\\sigma W} = \\frac{\\sigma \\epsilon}{\\sigma y} \\times \\frac{\\sigma y}{\\sigma W} =\n",
    "  \\frac{1}{N} (1 + sin(y - t))X $$\n",
    "  \n",
    "  $$ \\frac{\\sigma \\epsilon}{\\sigma b} = \\frac{\\sigma \\epsilon}{\\sigma y} $$\n",
    "  "
   ]
  },
  {
   "cell_type": "markdown",
   "metadata": {},
   "source": [
    "## Question 4\n",
    "  \n",
    "  design a neural network with four inputs, three hidden units and hard threshold activation units at each layer. we want this neural network to decide if an input array with size four is sorted or not, and manually set the weights so that the network would be able to properly solve this problem.  \n",
    "  lets brake the problem into three subproblems and make each neuron solve one subproblem. so the problem is whether $ X_1 \\leq X_2 \\leq X_3 \\leq X_4 $ and we are gonna break it into the three subproblems: $X_1 \\leq X_2 , \\;\\; X_2 \\leq X_3 , \\;\\; X_3 \\leq X_4$ each neuron will solve one subproblem and the final neuron will decide if all three conditions are satisfied.  \n",
    "  so the neuron should output 1 if $X_1 - X_2 \\leq 0$ and 0 otherwise. in other terms : $X_2 - X_1 \\geq 0 $ so the weights for our first neuron should be : $[-1, 1, 0, 0]$. the second and third neurons work quite the same. the final weight matrix will look something like this: <br><br> \n",
    "   $$W_1=\n",
    "  \\left[ {\\begin{array}{ccc}\n",
    "   -1 & 1 & 0 & 0\\\\\n",
    "   0 & -1 & 1 & 0\\\\\n",
    "   0 & 0 & -1 & 1\n",
    "  \\end{array} } \\right] $$  \n",
    "  and we have $b_1 = [0, 0, 0]$ <br>\n",
    "  on the second layer we have $W_2 = [1, 1, 1]$ and the bias can be anything between -3 and -2 $(-3\\leq b < -2)$"
   ]
  },
  {
   "cell_type": "code",
   "execution_count": null,
   "metadata": {},
   "outputs": [],
   "source": []
  }
 ],
 "metadata": {
  "kernelspec": {
   "display_name": "Python 3",
   "language": "python",
   "name": "python3"
  },
  "language_info": {
   "codemirror_mode": {
    "name": "ipython",
    "version": 3
   },
   "file_extension": ".py",
   "mimetype": "text/x-python",
   "name": "python",
   "nbconvert_exporter": "python",
   "pygments_lexer": "ipython3",
   "version": "3.6.4"
  }
 },
 "nbformat": 4,
 "nbformat_minor": 2
}
